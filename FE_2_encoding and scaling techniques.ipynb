{
 "cells": [
  {
   "cell_type": "raw",
   "id": "5d5db62b",
   "metadata": {},
   "source": [
    "#nominal encoding\n",
    "    one hot encoding\n",
    "    one hot encoding with many categories\n",
    "    mean encoding\n",
    "    \n",
    "Ordinal encoding:\n",
    "    label encoding\n",
    "    target encoding\n",
    "    ordinal encoding\n",
    "\n"
   ]
  },
  {
   "cell_type": "raw",
   "id": "12da14ee",
   "metadata": {},
   "source": [
    "one hot encoding:\n",
    "    Dummy variable trap\n",
    "disadavantage of one hot encoding: curse of dimensionality\n"
   ]
  },
  {
   "cell_type": "raw",
   "id": "20c4a724",
   "metadata": {},
   "source": [
    "label encoding:(ordinal encoding)\n",
    "    labelling using rank "
   ]
  },
  {
   "cell_type": "raw",
   "id": "753e97fe",
   "metadata": {},
   "source": [
    "one hot coding with multicat:\n",
    "    kdd orange classification problem\n"
   ]
  },
  {
   "cell_type": "raw",
   "id": "4b49972f",
   "metadata": {},
   "source": [
    "target guided ordinal cat:\n",
    "    using mean rearrange the ranks of that values and gives the lables"
   ]
  },
  {
   "cell_type": "raw",
   "id": "cfd2e402",
   "metadata": {},
   "source": [
    "mean encoding:(nominal cat)\n",
    "    using mean we will convert those cat values to int/float values.\n",
    "   "
   ]
  },
  {
   "cell_type": "markdown",
   "id": "7e552526",
   "metadata": {},
   "source": [
    "# Feature Scaling:"
   ]
  },
  {
   "cell_type": "raw",
   "id": "5216f41a",
   "metadata": {},
   "source": [
    " standard scaler\n",
    " minmax scaler\n",
    " unit scaler\n",
    " \n",
    " \n",
    " linear regression:\n",
    "     gradient decent\n",
    "     \n",
    " kmeans----- euclidean distance\n",
    " KNN--------euclidean distance\n",
    " \n",
    " \n",
    "     feature scaling not required for : decision trees\n",
    "                                        random forest\n",
    "                                        Xgboost\n",
    "\n",
    "\n"
   ]
  },
  {
   "cell_type": "code",
   "execution_count": 1,
   "id": "dc76fc94",
   "metadata": {},
   "outputs": [],
   "source": [
    "## handling missing values"
   ]
  },
  {
   "cell_type": "code",
   "execution_count": null,
   "id": "ad52343a",
   "metadata": {},
   "outputs": [],
   "source": []
  }
 ],
 "metadata": {
  "kernelspec": {
   "display_name": "Python 3 (ipykernel)",
   "language": "python",
   "name": "python3"
  },
  "language_info": {
   "codemirror_mode": {
    "name": "ipython",
    "version": 3
   },
   "file_extension": ".py",
   "mimetype": "text/x-python",
   "name": "python",
   "nbconvert_exporter": "python",
   "pygments_lexer": "ipython3",
   "version": "3.9.7"
  }
 },
 "nbformat": 4,
 "nbformat_minor": 5
}
